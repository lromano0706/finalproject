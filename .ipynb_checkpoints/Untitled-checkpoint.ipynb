{
 "cells": [
  {
   "cell_type": "code",
   "execution_count": 1,
   "metadata": {},
   "outputs": [
    {
     "name": "stderr",
     "output_type": "stream",
     "text": [
      "/Users/garycastle/opt/anaconda3/lib/python3.8/site-packages/sklearn/utils/deprecation.py:143: FutureWarning: The sklearn.ensemble.forest module is  deprecated in version 0.22 and will be removed in version 0.24. The corresponding classes / functions should instead be imported from sklearn.ensemble. Anything that cannot be imported from sklearn.ensemble is now part of the private API.\n",
      "  warnings.warn(message, FutureWarning)\n"
     ]
    }
   ],
   "source": [
    "from rfpimp import *\n",
    "import pandas as pd\n",
    "from sklearn.ensemble import RandomForestRegressor\n",
    "from sklearn.model_selection import train_test_split\n",
    "from rfpimp import plot_corr_heatmap\n",
    "from sklearn.metrics import roc_auc_score\n"
   ]
  },
  {
   "cell_type": "code",
   "execution_count": 2,
   "metadata": {},
   "outputs": [],
   "source": [
    "pd.set_option('display.max_rows', None)\n",
    "df_og = pd.read_csv('Data/Clean_Real_Estate.csv')\n",
    "df_og = pd.DataFrame(df_og).fillna(0)"
   ]
  },
  {
   "cell_type": "code",
   "execution_count": 3,
   "metadata": {},
   "outputs": [],
   "source": [
    "df = df_og.copy()"
   ]
  },
  {
   "cell_type": "code",
   "execution_count": 4,
   "metadata": {},
   "outputs": [],
   "source": [
    "df = df.drop([543,752,1202,1241,1293, 245, 516, 624, 880, 987, 1054, 179, 226])\n"
   ]
  },
  {
   "cell_type": "code",
   "execution_count": 5,
   "metadata": {},
   "outputs": [],
   "source": [
    "df = df.astype({'Average School Rating': 'float64'})"
   ]
  },
  {
   "cell_type": "code",
   "execution_count": 6,
   "metadata": {},
   "outputs": [],
   "source": [
    "df = df.drop(columns=['Unnamed: 0'])"
   ]
  },
  {
   "cell_type": "code",
   "execution_count": 7,
   "metadata": {},
   "outputs": [
    {
     "data": {
      "text/plain": [
       "ADDRESS                                                                                        object\n",
       "CITY                                                                                           object\n",
       "STATE OR PROVINCE                                                                              object\n",
       "ZIP OR POSTAL CODE                                                                              int64\n",
       "PRICE                                                                                           int64\n",
       "BEDS                                                                                            int64\n",
       "BATHS                                                                                         float64\n",
       "SQUARE FEET                                                                                   float64\n",
       "LOT SIZE                                                                                      float64\n",
       "YEAR BUILT                                                                                    float64\n",
       "DAYS ON MARKET                                                                                float64\n",
       "$/SQUARE FEET                                                                                 float64\n",
       "URL (SEE http://www.redfin.com/buy-a-home/comparative-market-analysis FOR INFO ON PRICING)     object\n",
       "MLS#                                                                                           object\n",
       "LATITUDE                                                                                      float64\n",
       "LONGITUDE                                                                                     float64\n",
       "Average School Rating                                                                         float64\n",
       "dtype: object"
      ]
     },
     "execution_count": 7,
     "metadata": {},
     "output_type": "execute_result"
    }
   ],
   "source": [
    "df.dtypes"
   ]
  },
  {
   "cell_type": "code",
   "execution_count": 8,
   "metadata": {},
   "outputs": [
    {
     "data": {
      "text/html": [
       "<div>\n",
       "<style scoped>\n",
       "    .dataframe tbody tr th:only-of-type {\n",
       "        vertical-align: middle;\n",
       "    }\n",
       "\n",
       "    .dataframe tbody tr th {\n",
       "        vertical-align: top;\n",
       "    }\n",
       "\n",
       "    .dataframe thead th {\n",
       "        text-align: right;\n",
       "    }\n",
       "</style>\n",
       "<table border=\"1\" class=\"dataframe\">\n",
       "  <thead>\n",
       "    <tr style=\"text-align: right;\">\n",
       "      <th></th>\n",
       "      <th>ZIP OR POSTAL CODE</th>\n",
       "      <th>PRICE</th>\n",
       "      <th>BEDS</th>\n",
       "      <th>BATHS</th>\n",
       "      <th>SQUARE FEET</th>\n",
       "      <th>LOT SIZE</th>\n",
       "      <th>YEAR BUILT</th>\n",
       "      <th>DAYS ON MARKET</th>\n",
       "      <th>$/SQUARE FEET</th>\n",
       "      <th>LATITUDE</th>\n",
       "      <th>LONGITUDE</th>\n",
       "      <th>Average School Rating</th>\n",
       "    </tr>\n",
       "  </thead>\n",
       "  <tbody>\n",
       "    <tr>\n",
       "      <th>0</th>\n",
       "      <td>92656</td>\n",
       "      <td>975000</td>\n",
       "      <td>3</td>\n",
       "      <td>2.5</td>\n",
       "      <td>1470.0</td>\n",
       "      <td>4950.0</td>\n",
       "      <td>1993.0</td>\n",
       "      <td>3.0</td>\n",
       "      <td>663.0</td>\n",
       "      <td>33.592613</td>\n",
       "      <td>-117.738368</td>\n",
       "      <td>8.333</td>\n",
       "    </tr>\n",
       "    <tr>\n",
       "      <th>1</th>\n",
       "      <td>92656</td>\n",
       "      <td>850000</td>\n",
       "      <td>3</td>\n",
       "      <td>2.5</td>\n",
       "      <td>1393.0</td>\n",
       "      <td>3000.0</td>\n",
       "      <td>1989.0</td>\n",
       "      <td>3.0</td>\n",
       "      <td>610.0</td>\n",
       "      <td>33.592240</td>\n",
       "      <td>-117.749226</td>\n",
       "      <td>9.000</td>\n",
       "    </tr>\n",
       "    <tr>\n",
       "      <th>2</th>\n",
       "      <td>92656</td>\n",
       "      <td>1350000</td>\n",
       "      <td>4</td>\n",
       "      <td>3.0</td>\n",
       "      <td>2918.0</td>\n",
       "      <td>5040.0</td>\n",
       "      <td>1989.0</td>\n",
       "      <td>5.0</td>\n",
       "      <td>463.0</td>\n",
       "      <td>33.594179</td>\n",
       "      <td>-117.740063</td>\n",
       "      <td>8.333</td>\n",
       "    </tr>\n",
       "    <tr>\n",
       "      <th>3</th>\n",
       "      <td>92656</td>\n",
       "      <td>995000</td>\n",
       "      <td>3</td>\n",
       "      <td>2.5</td>\n",
       "      <td>1605.0</td>\n",
       "      <td>3480.0</td>\n",
       "      <td>1989.0</td>\n",
       "      <td>6.0</td>\n",
       "      <td>620.0</td>\n",
       "      <td>33.596696</td>\n",
       "      <td>-117.744324</td>\n",
       "      <td>9.000</td>\n",
       "    </tr>\n",
       "    <tr>\n",
       "      <th>4</th>\n",
       "      <td>92656</td>\n",
       "      <td>1549000</td>\n",
       "      <td>4</td>\n",
       "      <td>4.5</td>\n",
       "      <td>3258.0</td>\n",
       "      <td>5546.0</td>\n",
       "      <td>2011.0</td>\n",
       "      <td>10.0</td>\n",
       "      <td>475.0</td>\n",
       "      <td>33.595652</td>\n",
       "      <td>-117.723661</td>\n",
       "      <td>7.667</td>\n",
       "    </tr>\n",
       "  </tbody>\n",
       "</table>\n",
       "</div>"
      ],
      "text/plain": [
       "   ZIP OR POSTAL CODE    PRICE  BEDS  BATHS  SQUARE FEET  LOT SIZE  \\\n",
       "0               92656   975000     3    2.5       1470.0    4950.0   \n",
       "1               92656   850000     3    2.5       1393.0    3000.0   \n",
       "2               92656  1350000     4    3.0       2918.0    5040.0   \n",
       "3               92656   995000     3    2.5       1605.0    3480.0   \n",
       "4               92656  1549000     4    4.5       3258.0    5546.0   \n",
       "\n",
       "   YEAR BUILT  DAYS ON MARKET  $/SQUARE FEET   LATITUDE   LONGITUDE  \\\n",
       "0      1993.0             3.0          663.0  33.592613 -117.738368   \n",
       "1      1989.0             3.0          610.0  33.592240 -117.749226   \n",
       "2      1989.0             5.0          463.0  33.594179 -117.740063   \n",
       "3      1989.0             6.0          620.0  33.596696 -117.744324   \n",
       "4      2011.0            10.0          475.0  33.595652 -117.723661   \n",
       "\n",
       "   Average School Rating  \n",
       "0                  8.333  \n",
       "1                  9.000  \n",
       "2                  8.333  \n",
       "3                  9.000  \n",
       "4                  7.667  "
      ]
     },
     "execution_count": 8,
     "metadata": {},
     "output_type": "execute_result"
    }
   ],
   "source": [
    "numeric_values = list(df.dtypes[df.dtypes!=\"object\"].index)\n",
    "df[numeric_values].head()"
   ]
  },
  {
   "cell_type": "code",
   "execution_count": 11,
   "metadata": {},
   "outputs": [
    {
     "data": {
      "text/plain": [
       "RandomForestRegressor(oob_score=True, random_state=42)"
      ]
     },
     "execution_count": 11,
     "metadata": {},
     "output_type": "execute_result"
    }
   ],
   "source": [
    "model = RandomForestRegressor(n_estimators=100, oob_score=True, random_state=42)\n",
    "model.fit(df[numeric_values], y=df['PRICE'])"
   ]
  },
  {
   "cell_type": "code",
   "execution_count": null,
   "metadata": {},
   "outputs": [],
   "source": []
  }
 ],
 "metadata": {
  "kernelspec": {
   "display_name": "Python 3",
   "language": "python",
   "name": "python3"
  },
  "language_info": {
   "codemirror_mode": {
    "name": "ipython",
    "version": 3
   },
   "file_extension": ".py",
   "mimetype": "text/x-python",
   "name": "python",
   "nbconvert_exporter": "python",
   "pygments_lexer": "ipython3",
   "version": "3.8.5"
  }
 },
 "nbformat": 4,
 "nbformat_minor": 4
}
