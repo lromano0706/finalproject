{
 "cells": [
  {
   "cell_type": "code",
   "execution_count": 1,
   "metadata": {},
   "outputs": [],
   "source": [
    "# Set the seed value for the notebook so the results are reproducible\n",
    "from numpy.random import seed\n",
    "seed(1)"
   ]
  },
  {
   "cell_type": "code",
   "execution_count": 2,
   "metadata": {
    "slideshow": {
     "slide_type": "subslide"
    }
   },
   "outputs": [],
   "source": [
    "# Dependencies\n",
    "import numpy as np\n",
    "import pandas as pd"
   ]
  },
  {
   "cell_type": "code",
   "execution_count": 3,
   "metadata": {},
   "outputs": [
    {
     "data": {
      "text/plain": [
       "'2.5.0'"
      ]
     },
     "execution_count": 3,
     "metadata": {},
     "output_type": "execute_result"
    }
   ],
   "source": [
    "import tensorflow\n",
    "tensorflow.keras.__version__"
   ]
  },
  {
   "cell_type": "code",
   "execution_count": 4,
   "metadata": {
    "slideshow": {
     "slide_type": "fragment"
    }
   },
   "outputs": [
    {
     "data": {
      "text/plain": [
       "Unnamed: 0                                                                                       int64\n",
       "ADDRESS                                                                                         object\n",
       "CITY                                                                                            object\n",
       "STATE OR PROVINCE                                                                               object\n",
       "ZIP OR POSTAL CODE                                                                              object\n",
       "PRICE                                                                                            int64\n",
       "BEDS                                                                                             int64\n",
       "BATHS                                                                                            int64\n",
       "SQUARE FEET                                                                                      int64\n",
       "LOT SIZE                                                                                         int64\n",
       "YEAR BUILT                                                                                       int64\n",
       "DAYS ON MARKET                                                                                   int64\n",
       "$/SQUARE FEET                                                                                    int64\n",
       "URL (SEE http://www.redfin.com/buy-a-home/comparative-market-analysis FOR INFO ON PRICING)      object\n",
       "MLS#                                                                                            object\n",
       "LATITUDE                                                                                        object\n",
       "LONGITUDE                                                                                       object\n",
       "Average School Rating                                                                         category\n",
       "Crime per Capita (1000s)                                                                       float64\n",
       "dtype: object"
      ]
     },
     "execution_count": 4,
     "metadata": {},
     "output_type": "execute_result"
    }
   ],
   "source": [
    "df = pd.read_csv('Data/Clean_Real_Estate_With_Crime.csv')\n",
    "pd.set_option('display.max_rows', None)\n",
    "pd.set_option('display.max_columns', None)\n",
    "df.drop(df[df['Average School Rating'] == 'No Schools'].index, inplace=True)\n",
    "df.astype({'Average School Rating': 'category', 'ZIP OR POSTAL CODE':'object','LATITUDE':'object','LONGITUDE':'object', 'BATHS':'int64'}).dtypes"
   ]
  },
  {
   "cell_type": "code",
   "execution_count": 5,
   "metadata": {},
   "outputs": [],
   "source": [
    "for col in ['ZIP OR POSTAL CODE', 'CITY']:\n",
    "    df[col]=df[col].astype('category')"
   ]
  },
  {
   "cell_type": "code",
   "execution_count": 33,
   "metadata": {},
   "outputs": [],
   "source": [
    "df_new = df.loc[:,['BEDS','CITY', 'ZIP OR POSTAL CODE', 'BATHS','PRICE', \n",
    "              'SQUARE FEET', 'LOT SIZE', 'YEAR BUILT', 'DAYS ON MARKET','LATITUDE','LONGITUDE', 'Average School Rating','Crime per Capita (1000s)']]"
   ]
  },
  {
   "cell_type": "code",
   "execution_count": 34,
   "metadata": {},
   "outputs": [],
   "source": [
    "new_df = pd.get_dummies(df_new)"
   ]
  },
  {
   "cell_type": "code",
   "execution_count": 35,
   "metadata": {
    "nbgrader": {
     "grade": false,
     "grade_id": "cell-86a9e3212f200d21",
     "locked": false,
     "schema_version": 1,
     "solution": true
    },
    "slideshow": {
     "slide_type": "subslide"
    }
   },
   "outputs": [
    {
     "name": "stdout",
     "output_type": "stream",
     "text": [
      "(1260, 157) (1260,)\n"
     ]
    }
   ],
   "source": [
    "#step 1: choose columsn of interest\n",
    "#step 2: use get_dummies\n",
    "#step 3: follow this now voice_recognition\n",
    "X = new_df.drop([\"PRICE\"],axis=1)\n",
    "y = np.log(new_df.PRICE.values)\n",
    "print(X.shape, y.shape)"
   ]
  },
  {
   "cell_type": "code",
   "execution_count": 37,
   "metadata": {
    "nbgrader": {
     "grade": false,
     "grade_id": "cell-711a82d9b32c83ff",
     "locked": false,
     "schema_version": 1,
     "solution": true
    },
    "slideshow": {
     "slide_type": "fragment"
    }
   },
   "outputs": [],
   "source": [
    "from sklearn.model_selection import train_test_split\n",
    "from sklearn.preprocessing import LabelEncoder, MinMaxScaler\n",
    "from tensorflow.keras.utils import to_categorical"
   ]
  },
  {
   "cell_type": "code",
   "execution_count": 38,
   "metadata": {
    "nbgrader": {
     "grade": false,
     "grade_id": "cell-711a82d9b32c83ff",
     "locked": false,
     "schema_version": 1,
     "solution": true
    },
    "slideshow": {
     "slide_type": "fragment"
    }
   },
   "outputs": [],
   "source": [
    "X_train, X_test, y_train, y_test = train_test_split(\n",
    "    X, y, random_state=42)"
   ]
  },
  {
   "cell_type": "code",
   "execution_count": 39,
   "metadata": {
    "nbgrader": {
     "grade": false,
     "grade_id": "cell-711a82d9b32c83ff",
     "locked": false,
     "schema_version": 1,
     "solution": true
    },
    "slideshow": {
     "slide_type": "fragment"
    }
   },
   "outputs": [],
   "source": [
    "X_scaler = MinMaxScaler().fit(X_train)\n",
    "X_train_scaled = X_scaler.transform(X_train)\n",
    "X_test_scaled = X_scaler.transform(X_test)"
   ]
  },
  {
   "cell_type": "code",
   "execution_count": 40,
   "metadata": {},
   "outputs": [],
   "source": [
    "from tensorflow.keras.models import Sequential\n",
    "from tensorflow.keras.layers import Dense"
   ]
  },
  {
   "cell_type": "code",
   "execution_count": 41,
   "metadata": {},
   "outputs": [],
   "source": [
    "# Create model and add layers\n",
    "model = Sequential()\n",
    "model.add(Dense(units=100, input_dim=157))\n",
    "model.add(Dense(units=100, activation='relu'))\n",
    "# model.add(Dense(units=2, activation='softmax'))\n",
    "model.add(Dense(units=1))"
   ]
  },
  {
   "cell_type": "code",
   "execution_count": 42,
   "metadata": {},
   "outputs": [],
   "source": [
    "# Compile and fit the model\n",
    "model.compile(optimizer='adam',\n",
    "              loss='mean_squared_error',\n",
    "              metrics=['mse'])"
   ]
  },
  {
   "cell_type": "code",
   "execution_count": 43,
   "metadata": {},
   "outputs": [
    {
     "name": "stdout",
     "output_type": "stream",
     "text": [
      "Model: \"sequential_1\"\n",
      "_________________________________________________________________\n",
      "Layer (type)                 Output Shape              Param #   \n",
      "=================================================================\n",
      "dense_3 (Dense)              (None, 100)               15800     \n",
      "_________________________________________________________________\n",
      "dense_4 (Dense)              (None, 100)               10100     \n",
      "_________________________________________________________________\n",
      "dense_5 (Dense)              (None, 1)                 101       \n",
      "=================================================================\n",
      "Total params: 26,001\n",
      "Trainable params: 26,001\n",
      "Non-trainable params: 0\n",
      "_________________________________________________________________\n"
     ]
    }
   ],
   "source": [
    "model.summary()"
   ]
  },
  {
   "cell_type": "code",
   "execution_count": 44,
   "metadata": {},
   "outputs": [
    {
     "name": "stdout",
     "output_type": "stream",
     "text": [
      "Epoch 1/80\n",
      "26/26 - 0s - loss: 174.3182 - mse: 174.3182 - val_loss: 119.5063 - val_mse: 119.5063\n",
      "Epoch 2/80\n",
      "26/26 - 0s - loss: 50.3752 - mse: 50.3752 - val_loss: 1.8071 - val_mse: 1.8071\n",
      "Epoch 3/80\n",
      "26/26 - 0s - loss: 3.1347 - mse: 3.1347 - val_loss: 1.4726 - val_mse: 1.4726\n",
      "Epoch 4/80\n",
      "26/26 - 0s - loss: 1.0590 - mse: 1.0590 - val_loss: 0.8021 - val_mse: 0.8021\n",
      "Epoch 5/80\n",
      "26/26 - 0s - loss: 0.6595 - mse: 0.6595 - val_loss: 0.6657 - val_mse: 0.6657\n",
      "Epoch 6/80\n",
      "26/26 - 0s - loss: 0.5349 - mse: 0.5349 - val_loss: 0.5388 - val_mse: 0.5388\n",
      "Epoch 7/80\n",
      "26/26 - 0s - loss: 0.4632 - mse: 0.4632 - val_loss: 0.4750 - val_mse: 0.4750\n",
      "Epoch 8/80\n",
      "26/26 - 0s - loss: 0.4173 - mse: 0.4173 - val_loss: 0.4494 - val_mse: 0.4494\n",
      "Epoch 9/80\n",
      "26/26 - 0s - loss: 0.3774 - mse: 0.3774 - val_loss: 0.3963 - val_mse: 0.3963\n",
      "Epoch 10/80\n",
      "26/26 - 0s - loss: 0.3516 - mse: 0.3516 - val_loss: 0.3866 - val_mse: 0.3866\n",
      "Epoch 11/80\n",
      "26/26 - 0s - loss: 0.3312 - mse: 0.3312 - val_loss: 0.3612 - val_mse: 0.3612\n",
      "Epoch 12/80\n",
      "26/26 - 0s - loss: 0.3174 - mse: 0.3174 - val_loss: 0.3637 - val_mse: 0.3637\n",
      "Epoch 13/80\n",
      "26/26 - 0s - loss: 0.2955 - mse: 0.2955 - val_loss: 0.3435 - val_mse: 0.3435\n",
      "Epoch 14/80\n",
      "26/26 - 0s - loss: 0.2795 - mse: 0.2795 - val_loss: 0.3324 - val_mse: 0.3324\n",
      "Epoch 15/80\n",
      "26/26 - 0s - loss: 0.2657 - mse: 0.2657 - val_loss: 0.3232 - val_mse: 0.3232\n",
      "Epoch 16/80\n",
      "26/26 - 0s - loss: 0.2642 - mse: 0.2642 - val_loss: 0.3162 - val_mse: 0.3162\n",
      "Epoch 17/80\n",
      "26/26 - 0s - loss: 0.2482 - mse: 0.2482 - val_loss: 0.2929 - val_mse: 0.2929\n",
      "Epoch 18/80\n",
      "26/26 - 0s - loss: 0.2408 - mse: 0.2408 - val_loss: 0.3014 - val_mse: 0.3014\n",
      "Epoch 19/80\n",
      "26/26 - 0s - loss: 0.2368 - mse: 0.2368 - val_loss: 0.2887 - val_mse: 0.2887\n",
      "Epoch 20/80\n",
      "26/26 - 0s - loss: 0.2369 - mse: 0.2369 - val_loss: 0.2901 - val_mse: 0.2901\n",
      "Epoch 21/80\n",
      "26/26 - 0s - loss: 0.2253 - mse: 0.2253 - val_loss: 0.2762 - val_mse: 0.2762\n",
      "Epoch 22/80\n",
      "26/26 - 0s - loss: 0.2148 - mse: 0.2148 - val_loss: 0.2616 - val_mse: 0.2616\n",
      "Epoch 23/80\n",
      "26/26 - 0s - loss: 0.2081 - mse: 0.2081 - val_loss: 0.2594 - val_mse: 0.2594\n",
      "Epoch 24/80\n",
      "26/26 - 0s - loss: 0.2171 - mse: 0.2171 - val_loss: 0.2511 - val_mse: 0.2511\n",
      "Epoch 25/80\n",
      "26/26 - 0s - loss: 0.2067 - mse: 0.2067 - val_loss: 0.2668 - val_mse: 0.2668\n",
      "Epoch 26/80\n",
      "26/26 - 0s - loss: 0.1942 - mse: 0.1942 - val_loss: 0.2369 - val_mse: 0.2369\n",
      "Epoch 27/80\n",
      "26/26 - 0s - loss: 0.1949 - mse: 0.1949 - val_loss: 0.2284 - val_mse: 0.2284\n",
      "Epoch 28/80\n",
      "26/26 - 0s - loss: 0.1887 - mse: 0.1887 - val_loss: 0.2316 - val_mse: 0.2316\n",
      "Epoch 29/80\n",
      "26/26 - 0s - loss: 0.1792 - mse: 0.1792 - val_loss: 0.2215 - val_mse: 0.2215\n",
      "Epoch 30/80\n",
      "26/26 - 0s - loss: 0.1751 - mse: 0.1751 - val_loss: 0.2295 - val_mse: 0.2295\n",
      "Epoch 31/80\n",
      "26/26 - 0s - loss: 0.1748 - mse: 0.1748 - val_loss: 0.2148 - val_mse: 0.2148\n",
      "Epoch 32/80\n",
      "26/26 - 0s - loss: 0.1826 - mse: 0.1826 - val_loss: 0.2345 - val_mse: 0.2345\n",
      "Epoch 33/80\n",
      "26/26 - 0s - loss: 0.1689 - mse: 0.1689 - val_loss: 0.2072 - val_mse: 0.2072\n",
      "Epoch 34/80\n",
      "26/26 - 0s - loss: 0.1646 - mse: 0.1646 - val_loss: 0.2029 - val_mse: 0.2029\n",
      "Epoch 35/80\n",
      "26/26 - 0s - loss: 0.1621 - mse: 0.1621 - val_loss: 0.1954 - val_mse: 0.1954\n",
      "Epoch 36/80\n",
      "26/26 - 0s - loss: 0.1562 - mse: 0.1562 - val_loss: 0.1912 - val_mse: 0.1912\n",
      "Epoch 37/80\n",
      "26/26 - 0s - loss: 0.1580 - mse: 0.1580 - val_loss: 0.1947 - val_mse: 0.1947\n",
      "Epoch 38/80\n",
      "26/26 - 0s - loss: 0.1487 - mse: 0.1487 - val_loss: 0.1829 - val_mse: 0.1829\n",
      "Epoch 39/80\n",
      "26/26 - 0s - loss: 0.1436 - mse: 0.1436 - val_loss: 0.1981 - val_mse: 0.1981\n",
      "Epoch 40/80\n",
      "26/26 - 0s - loss: 0.1449 - mse: 0.1449 - val_loss: 0.1765 - val_mse: 0.1765\n",
      "Epoch 41/80\n",
      "26/26 - 0s - loss: 0.1368 - mse: 0.1368 - val_loss: 0.1703 - val_mse: 0.1703\n",
      "Epoch 42/80\n",
      "26/26 - 0s - loss: 0.1355 - mse: 0.1355 - val_loss: 0.1694 - val_mse: 0.1694\n",
      "Epoch 43/80\n",
      "26/26 - 0s - loss: 0.1376 - mse: 0.1376 - val_loss: 0.1662 - val_mse: 0.1662\n",
      "Epoch 44/80\n",
      "26/26 - 0s - loss: 0.1331 - mse: 0.1331 - val_loss: 0.1613 - val_mse: 0.1613\n",
      "Epoch 45/80\n",
      "26/26 - 0s - loss: 0.1344 - mse: 0.1344 - val_loss: 0.1610 - val_mse: 0.1610\n",
      "Epoch 46/80\n",
      "26/26 - 0s - loss: 0.1285 - mse: 0.1285 - val_loss: 0.1546 - val_mse: 0.1546\n",
      "Epoch 47/80\n",
      "26/26 - 0s - loss: 0.1274 - mse: 0.1274 - val_loss: 0.1539 - val_mse: 0.1539\n",
      "Epoch 48/80\n",
      "26/26 - 0s - loss: 0.1283 - mse: 0.1283 - val_loss: 0.1659 - val_mse: 0.1659\n",
      "Epoch 49/80\n",
      "26/26 - 0s - loss: 0.1230 - mse: 0.1230 - val_loss: 0.1555 - val_mse: 0.1555\n",
      "Epoch 50/80\n",
      "26/26 - 0s - loss: 0.1217 - mse: 0.1217 - val_loss: 0.1505 - val_mse: 0.1505\n",
      "Epoch 51/80\n",
      "26/26 - 0s - loss: 0.1233 - mse: 0.1233 - val_loss: 0.1505 - val_mse: 0.1505\n",
      "Epoch 52/80\n",
      "26/26 - 0s - loss: 0.1252 - mse: 0.1252 - val_loss: 0.1692 - val_mse: 0.1692\n",
      "Epoch 53/80\n",
      "26/26 - 0s - loss: 0.1344 - mse: 0.1344 - val_loss: 0.1455 - val_mse: 0.1455\n",
      "Epoch 54/80\n",
      "26/26 - 0s - loss: 0.1295 - mse: 0.1295 - val_loss: 0.1482 - val_mse: 0.1482\n",
      "Epoch 55/80\n",
      "26/26 - 0s - loss: 0.1266 - mse: 0.1266 - val_loss: 0.1438 - val_mse: 0.1438\n",
      "Epoch 56/80\n",
      "26/26 - 0s - loss: 0.1193 - mse: 0.1193 - val_loss: 0.1345 - val_mse: 0.1345\n",
      "Epoch 57/80\n",
      "26/26 - 0s - loss: 0.1147 - mse: 0.1147 - val_loss: 0.1383 - val_mse: 0.1383\n",
      "Epoch 58/80\n",
      "26/26 - 0s - loss: 0.1216 - mse: 0.1216 - val_loss: 0.1416 - val_mse: 0.1416\n",
      "Epoch 59/80\n",
      "26/26 - 0s - loss: 0.1201 - mse: 0.1201 - val_loss: 0.1431 - val_mse: 0.1431\n",
      "Epoch 60/80\n",
      "26/26 - 0s - loss: 0.1141 - mse: 0.1141 - val_loss: 0.1455 - val_mse: 0.1455\n",
      "Epoch 61/80\n",
      "26/26 - 0s - loss: 0.1131 - mse: 0.1131 - val_loss: 0.1332 - val_mse: 0.1332\n",
      "Epoch 62/80\n",
      "26/26 - 0s - loss: 0.1129 - mse: 0.1129 - val_loss: 0.1345 - val_mse: 0.1345\n",
      "Epoch 63/80\n",
      "26/26 - 0s - loss: 0.1133 - mse: 0.1133 - val_loss: 0.1319 - val_mse: 0.1319\n",
      "Epoch 64/80\n",
      "26/26 - 0s - loss: 0.1130 - mse: 0.1130 - val_loss: 0.1371 - val_mse: 0.1371\n",
      "Epoch 65/80\n",
      "26/26 - 0s - loss: 0.1132 - mse: 0.1132 - val_loss: 0.1333 - val_mse: 0.1333\n",
      "Epoch 66/80\n",
      "26/26 - 0s - loss: 0.1097 - mse: 0.1097 - val_loss: 0.1414 - val_mse: 0.1414\n",
      "Epoch 67/80\n",
      "26/26 - 0s - loss: 0.1147 - mse: 0.1147 - val_loss: 0.1319 - val_mse: 0.1319\n",
      "Epoch 68/80\n",
      "26/26 - 0s - loss: 0.1139 - mse: 0.1139 - val_loss: 0.1454 - val_mse: 0.1454\n",
      "Epoch 69/80\n",
      "26/26 - 0s - loss: 0.1165 - mse: 0.1165 - val_loss: 0.1444 - val_mse: 0.1444\n",
      "Epoch 70/80\n",
      "26/26 - 0s - loss: 0.1087 - mse: 0.1087 - val_loss: 0.1321 - val_mse: 0.1321\n",
      "Epoch 71/80\n",
      "26/26 - 0s - loss: 0.1211 - mse: 0.1211 - val_loss: 0.1768 - val_mse: 0.1768\n",
      "Epoch 72/80\n",
      "26/26 - 0s - loss: 0.1189 - mse: 0.1189 - val_loss: 0.1302 - val_mse: 0.1302\n",
      "Epoch 73/80\n",
      "26/26 - 0s - loss: 0.1131 - mse: 0.1131 - val_loss: 0.1401 - val_mse: 0.1401\n",
      "Epoch 74/80\n",
      "26/26 - 0s - loss: 0.1233 - mse: 0.1233 - val_loss: 0.2038 - val_mse: 0.2038\n",
      "Epoch 75/80\n",
      "26/26 - 0s - loss: 0.1552 - mse: 0.1552 - val_loss: 0.1415 - val_mse: 0.1415\n",
      "Epoch 76/80\n",
      "26/26 - 0s - loss: 0.1176 - mse: 0.1176 - val_loss: 0.1335 - val_mse: 0.1335\n",
      "Epoch 77/80\n",
      "26/26 - 0s - loss: 0.1114 - mse: 0.1114 - val_loss: 0.1383 - val_mse: 0.1383\n",
      "Epoch 78/80\n",
      "26/26 - 0s - loss: 0.1132 - mse: 0.1132 - val_loss: 0.1288 - val_mse: 0.1288\n",
      "Epoch 79/80\n",
      "26/26 - 0s - loss: 0.1130 - mse: 0.1130 - val_loss: 0.1300 - val_mse: 0.1300\n",
      "Epoch 80/80\n",
      "26/26 - 0s - loss: 0.1130 - mse: 0.1130 - val_loss: 0.1292 - val_mse: 0.1292\n"
     ]
    },
    {
     "data": {
      "text/plain": [
       "<tensorflow.python.keras.callbacks.History at 0x7f9bd6a4c9a0>"
      ]
     },
     "execution_count": 44,
     "metadata": {},
     "output_type": "execute_result"
    }
   ],
   "source": [
    "model.fit(\n",
    "    X_train_scaled,\n",
    "    y_train,\n",
    "    \n",
    "    validation_split=.15,\n",
    "\n",
    "    epochs=80,\n",
    "    shuffle=True,\n",
    "    verbose=2\n",
    ")"
   ]
  },
  {
   "cell_type": "markdown",
   "metadata": {},
   "source": [
    "## Quantify our Trained Model"
   ]
  },
  {
   "cell_type": "code",
   "execution_count": 45,
   "metadata": {},
   "outputs": [
    {
     "name": "stdout",
     "output_type": "stream",
     "text": [
      "10/10 - 0s - loss: 0.1611 - mse: 0.1611\n",
      "Normal Neural Network - Loss: 0.1610599011182785, Accuracy: 0.1610599011182785\n"
     ]
    }
   ],
   "source": [
    "model_loss, model_accuracy = model.evaluate(\n",
    "    X_test_scaled, y_test, verbose=2)\n",
    "print(\n",
    "    f\"Normal Neural Network - Loss: {model_loss}, Accuracy: {model_accuracy}\")"
   ]
  },
  {
   "cell_type": "code",
   "execution_count": 46,
   "metadata": {},
   "outputs": [],
   "source": [
    "from sklearn.ensemble import RandomForestClassifier, RandomForestRegressor"
   ]
  },
  {
   "cell_type": "code",
   "execution_count": 47,
   "metadata": {},
   "outputs": [
    {
     "data": {
      "text/plain": [
       "RandomForestRegressor()"
      ]
     },
     "execution_count": 47,
     "metadata": {},
     "output_type": "execute_result"
    }
   ],
   "source": [
    "rf = RandomForestRegressor()\n",
    "rf.fit(X_train,y_train)"
   ]
  },
  {
   "cell_type": "code",
   "execution_count": 48,
   "metadata": {},
   "outputs": [
    {
     "data": {
      "text/plain": [
       "0.9817408405997372"
      ]
     },
     "execution_count": 48,
     "metadata": {},
     "output_type": "execute_result"
    }
   ],
   "source": [
    "rf.score(X_train,y_train)"
   ]
  },
  {
   "cell_type": "code",
   "execution_count": 49,
   "metadata": {},
   "outputs": [
    {
     "data": {
      "text/plain": [
       "0.9038660618290706"
      ]
     },
     "execution_count": 49,
     "metadata": {},
     "output_type": "execute_result"
    }
   ],
   "source": [
    "rf.score(X_test,y_test)"
   ]
  },
  {
   "cell_type": "code",
   "execution_count": 50,
   "metadata": {},
   "outputs": [
    {
     "data": {
      "text/plain": [
       "748377.8334491701"
      ]
     },
     "execution_count": 50,
     "metadata": {},
     "output_type": "execute_result"
    }
   ],
   "source": [
    "np.exp(rf.predict(X_test)[2])"
   ]
  },
  {
   "cell_type": "code",
   "execution_count": 51,
   "metadata": {},
   "outputs": [
    {
     "data": {
      "text/plain": [
       "BEDS                              3.000000\n",
       "BATHS                             1.500000\n",
       "SQUARE FEET                    1440.000000\n",
       "LOT SIZE                       6500.000000\n",
       "YEAR BUILT                     1949.000000\n",
       "DAYS ON MARKET                   11.000000\n",
       "LATITUDE                         33.836051\n",
       "LONGITUDE                      -117.890319\n",
       "Crime per Capita (1000s)          5.244735\n",
       "CITY_Aliso Viejo                  0.000000\n",
       "CITY_Anaheim                      1.000000\n",
       "CITY_Brea                         0.000000\n",
       "CITY_Buena Park                   0.000000\n",
       "CITY_Costa Mesa                   0.000000\n",
       "CITY_Cypress                      0.000000\n",
       "CITY_Dana Point                   0.000000\n",
       "CITY_Fountain Valley              0.000000\n",
       "CITY_Fullerton                    0.000000\n",
       "CITY_Garden Grove                 0.000000\n",
       "CITY_Huntington Beach             0.000000\n",
       "CITY_Irvine                       0.000000\n",
       "CITY_La Habra                     0.000000\n",
       "CITY_La Palma                     0.000000\n",
       "CITY_Laguna Beach                 0.000000\n",
       "CITY_Laguna Hills                 0.000000\n",
       "CITY_Laguna Niguel                0.000000\n",
       "CITY_Lake Forest                  0.000000\n",
       "CITY_Los Alamitos                 0.000000\n",
       "CITY_Mission Viejo                0.000000\n",
       "CITY_Newport Beach                0.000000\n",
       "CITY_Orange                       0.000000\n",
       "CITY_Placentia                    0.000000\n",
       "CITY_Rancho Santa Margarita       0.000000\n",
       "CITY_San Clemente                 0.000000\n",
       "CITY_San Juan Capistrano          0.000000\n",
       "CITY_Santa Ana                    0.000000\n",
       "CITY_Seal Beach                   0.000000\n",
       "CITY_Stanton                      0.000000\n",
       "CITY_Tustin                       0.000000\n",
       "CITY_Villa Park                   0.000000\n",
       "CITY_Westminster                  0.000000\n",
       "CITY_Yorba Linda                  0.000000\n",
       "ZIP OR POSTAL CODE_90620          0.000000\n",
       "ZIP OR POSTAL CODE_90621          0.000000\n",
       "ZIP OR POSTAL CODE_90623          0.000000\n",
       "ZIP OR POSTAL CODE_90630          0.000000\n",
       "ZIP OR POSTAL CODE_90631          0.000000\n",
       "ZIP OR POSTAL CODE_90680          0.000000\n",
       "ZIP OR POSTAL CODE_90720          0.000000\n",
       "ZIP OR POSTAL CODE_90740          0.000000\n",
       "ZIP OR POSTAL CODE_92602          0.000000\n",
       "ZIP OR POSTAL CODE_92603          0.000000\n",
       "ZIP OR POSTAL CODE_92604          0.000000\n",
       "ZIP OR POSTAL CODE_92606          0.000000\n",
       "ZIP OR POSTAL CODE_92610          0.000000\n",
       "ZIP OR POSTAL CODE_92612          0.000000\n",
       "ZIP OR POSTAL CODE_92614          0.000000\n",
       "ZIP OR POSTAL CODE_92618          0.000000\n",
       "ZIP OR POSTAL CODE_92620          0.000000\n",
       "ZIP OR POSTAL CODE_92624          0.000000\n",
       "ZIP OR POSTAL CODE_92626          0.000000\n",
       "ZIP OR POSTAL CODE_92627          0.000000\n",
       "ZIP OR POSTAL CODE_92629          0.000000\n",
       "ZIP OR POSTAL CODE_92630          0.000000\n",
       "ZIP OR POSTAL CODE_92646          0.000000\n",
       "ZIP OR POSTAL CODE_92647          0.000000\n",
       "ZIP OR POSTAL CODE_92648          0.000000\n",
       "ZIP OR POSTAL CODE_92649          0.000000\n",
       "ZIP OR POSTAL CODE_92651          0.000000\n",
       "ZIP OR POSTAL CODE_92653          0.000000\n",
       "ZIP OR POSTAL CODE_92656          0.000000\n",
       "ZIP OR POSTAL CODE_92660          0.000000\n",
       "ZIP OR POSTAL CODE_92661          0.000000\n",
       "ZIP OR POSTAL CODE_92663          0.000000\n",
       "ZIP OR POSTAL CODE_92672          0.000000\n",
       "ZIP OR POSTAL CODE_92673          0.000000\n",
       "ZIP OR POSTAL CODE_92675          0.000000\n",
       "ZIP OR POSTAL CODE_92677          0.000000\n",
       "ZIP OR POSTAL CODE_92679          0.000000\n",
       "ZIP OR POSTAL CODE_92683          0.000000\n",
       "ZIP OR POSTAL CODE_92688          0.000000\n",
       "ZIP OR POSTAL CODE_92691          0.000000\n",
       "ZIP OR POSTAL CODE_92692          0.000000\n",
       "ZIP OR POSTAL CODE_92701          0.000000\n",
       "ZIP OR POSTAL CODE_92703          0.000000\n",
       "ZIP OR POSTAL CODE_92704          0.000000\n",
       "ZIP OR POSTAL CODE_92705          0.000000\n",
       "ZIP OR POSTAL CODE_92706          0.000000\n",
       "ZIP OR POSTAL CODE_92707          0.000000\n",
       "ZIP OR POSTAL CODE_92708          0.000000\n",
       "ZIP OR POSTAL CODE_92780          0.000000\n",
       "ZIP OR POSTAL CODE_92782          0.000000\n",
       "ZIP OR POSTAL CODE_92801          0.000000\n",
       "ZIP OR POSTAL CODE_92802          0.000000\n",
       "ZIP OR POSTAL CODE_92804          0.000000\n",
       "ZIP OR POSTAL CODE_92805          1.000000\n",
       "ZIP OR POSTAL CODE_92806          0.000000\n",
       "ZIP OR POSTAL CODE_92807          0.000000\n",
       "ZIP OR POSTAL CODE_92821          0.000000\n",
       "ZIP OR POSTAL CODE_92823          0.000000\n",
       "ZIP OR POSTAL CODE_92831          0.000000\n",
       "ZIP OR POSTAL CODE_92832          0.000000\n",
       "ZIP OR POSTAL CODE_92833          0.000000\n",
       "ZIP OR POSTAL CODE_92835          0.000000\n",
       "ZIP OR POSTAL CODE_92840          0.000000\n",
       "ZIP OR POSTAL CODE_92841          0.000000\n",
       "ZIP OR POSTAL CODE_92843          0.000000\n",
       "ZIP OR POSTAL CODE_92844          0.000000\n",
       "ZIP OR POSTAL CODE_92845          0.000000\n",
       "ZIP OR POSTAL CODE_92861          0.000000\n",
       "ZIP OR POSTAL CODE_92865          0.000000\n",
       "ZIP OR POSTAL CODE_92866          0.000000\n",
       "ZIP OR POSTAL CODE_92867          0.000000\n",
       "ZIP OR POSTAL CODE_92868          0.000000\n",
       "ZIP OR POSTAL CODE_92869          0.000000\n",
       "ZIP OR POSTAL CODE_92870          0.000000\n",
       "ZIP OR POSTAL CODE_92886          0.000000\n",
       "ZIP OR POSTAL CODE_92887          0.000000\n",
       "Average School Rating_2.333       0.000000\n",
       "Average School Rating_2.667       0.000000\n",
       "Average School Rating_3           0.000000\n",
       "Average School Rating_3.333       0.000000\n",
       "Average School Rating_3.667       0.000000\n",
       "Average School Rating_4           1.000000\n",
       "Average School Rating_4.333       0.000000\n",
       "Average School Rating_4.4         0.000000\n",
       "Average School Rating_4.429       0.000000\n",
       "Average School Rating_4.6         0.000000\n",
       "Average School Rating_4.667       0.000000\n",
       "Average School Rating_4.75        0.000000\n",
       "Average School Rating_4.833       0.000000\n",
       "Average School Rating_5           0.000000\n",
       "Average School Rating_5.25        0.000000\n",
       "Average School Rating_5.333       0.000000\n",
       "Average School Rating_5.5         0.000000\n",
       "Average School Rating_5.667       0.000000\n",
       "Average School Rating_5.75        0.000000\n",
       "Average School Rating_6           0.000000\n",
       "Average School Rating_6.25        0.000000\n",
       "Average School Rating_6.333       0.000000\n",
       "Average School Rating_6.5         0.000000\n",
       "Average School Rating_6.667       0.000000\n",
       "Average School Rating_6.75        0.000000\n",
       "Average School Rating_7           0.000000\n",
       "Average School Rating_7.25        0.000000\n",
       "Average School Rating_7.333       0.000000\n",
       "Average School Rating_7.667       0.000000\n",
       "Average School Rating_7.75        0.000000\n",
       "Average School Rating_8           0.000000\n",
       "Average School Rating_8.2         0.000000\n",
       "Average School Rating_8.25        0.000000\n",
       "Average School Rating_8.333       0.000000\n",
       "Average School Rating_8.5         0.000000\n",
       "Average School Rating_8.667       0.000000\n",
       "Average School Rating_8.75        0.000000\n",
       "Average School Rating_9           0.000000\n",
       "Average School Rating_9.333       0.000000\n",
       "Name: 43, dtype: float64"
      ]
     },
     "execution_count": 51,
     "metadata": {},
     "output_type": "execute_result"
    }
   ],
   "source": [
    "X_test.iloc[2]"
   ]
  },
  {
   "cell_type": "code",
   "execution_count": null,
   "metadata": {},
   "outputs": [],
   "source": []
  }
 ],
 "metadata": {
  "kernelspec": {
   "display_name": "Python 3",
   "language": "python",
   "name": "python3"
  },
  "language_info": {
   "codemirror_mode": {
    "name": "ipython",
    "version": 3
   },
   "file_extension": ".py",
   "mimetype": "text/x-python",
   "name": "python",
   "nbconvert_exporter": "python",
   "pygments_lexer": "ipython3",
   "version": "3.8.5"
  },
  "varInspector": {
   "cols": {
    "lenName": 16,
    "lenType": 16,
    "lenVar": 40
   },
   "kernels_config": {
    "python": {
     "delete_cmd_postfix": "",
     "delete_cmd_prefix": "del ",
     "library": "var_list.py",
     "varRefreshCmd": "print(var_dic_list())"
    },
    "r": {
     "delete_cmd_postfix": ") ",
     "delete_cmd_prefix": "rm(",
     "library": "var_list.r",
     "varRefreshCmd": "cat(var_dic_list()) "
    }
   },
   "types_to_exclude": [
    "module",
    "function",
    "builtin_function_or_method",
    "instance",
    "_Feature"
   ],
   "window_display": false
  }
 },
 "nbformat": 4,
 "nbformat_minor": 4
}
