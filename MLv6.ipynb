{
 "cells": [
  {
   "cell_type": "code",
   "execution_count": 1,
   "metadata": {},
   "outputs": [],
   "source": [
    "# Set the seed value for the notebook so the results are reproducible\n",
    "from numpy.random import seed\n",
    "seed(1)"
   ]
  },
  {
   "cell_type": "code",
   "execution_count": 2,
   "metadata": {
    "slideshow": {
     "slide_type": "subslide"
    }
   },
   "outputs": [],
   "source": [
    "# Dependencies\n",
    "import numpy as np\n",
    "import pandas as pd"
   ]
  },
  {
   "cell_type": "code",
   "execution_count": 3,
   "metadata": {},
   "outputs": [
    {
     "data": {
      "text/plain": [
       "'2.5.0'"
      ]
     },
     "execution_count": 3,
     "metadata": {},
     "output_type": "execute_result"
    }
   ],
   "source": [
    "import tensorflow\n",
    "tensorflow.keras.__version__"
   ]
  },
  {
   "cell_type": "code",
   "execution_count": 4,
   "metadata": {
    "slideshow": {
     "slide_type": "fragment"
    }
   },
   "outputs": [
    {
     "data": {
      "text/plain": [
       "Unnamed: 0                                                                                       int64\n",
       "ADDRESS                                                                                         object\n",
       "CITY                                                                                            object\n",
       "STATE OR PROVINCE                                                                               object\n",
       "ZIP OR POSTAL CODE                                                                              object\n",
       "PRICE                                                                                            int64\n",
       "BEDS                                                                                             int64\n",
       "BATHS                                                                                            int64\n",
       "SQUARE FEET                                                                                      int64\n",
       "LOT SIZE                                                                                         int64\n",
       "YEAR BUILT                                                                                       int64\n",
       "DAYS ON MARKET                                                                                   int64\n",
       "$/SQUARE FEET                                                                                    int64\n",
       "URL (SEE http://www.redfin.com/buy-a-home/comparative-market-analysis FOR INFO ON PRICING)      object\n",
       "MLS#                                                                                            object\n",
       "LATITUDE                                                                                        object\n",
       "LONGITUDE                                                                                       object\n",
       "Average School Rating                                                                         category\n",
       "Crime per Capita (1000s)                                                                       float64\n",
       "dtype: object"
      ]
     },
     "execution_count": 4,
     "metadata": {},
     "output_type": "execute_result"
    }
   ],
   "source": [
    "df = pd.read_csv('Data/Clean_Real_Estate_With_Crime.csv')\n",
    "pd.set_option('display.max_rows', None)\n",
    "pd.set_option('display.max_columns', None)\n",
    "df.drop(df[df['Average School Rating'] == 'No Schools'].index, inplace=True)\n",
    "df.astype({'Average School Rating': 'category', 'ZIP OR POSTAL CODE':'object','LATITUDE':'object','LONGITUDE':'object', 'BATHS':'int64'}).dtypes"
   ]
  },
  {
   "cell_type": "code",
   "execution_count": 5,
   "metadata": {},
   "outputs": [],
   "source": [
    "for col in ['ZIP OR POSTAL CODE', 'CITY']:\n",
    "    df[col]=df[col].astype('category')"
   ]
  },
  {
   "cell_type": "code",
   "execution_count": 6,
   "metadata": {},
   "outputs": [],
   "source": [
    "df_new = df.loc[:,['CITY', 'ZIP OR POSTAL CODE', 'BATHS','PRICE', \n",
    "              'SQUARE FEET', 'LOT SIZE', 'YEAR BUILT', 'DAYS ON MARKET','LATITUDE','LONGITUDE', 'Average School Rating','Crime per Capita (1000s)']]"
   ]
  },
  {
   "cell_type": "code",
   "execution_count": 7,
   "metadata": {},
   "outputs": [],
   "source": [
    "new_df = pd.get_dummies(df_new)"
   ]
  },
  {
   "cell_type": "code",
   "execution_count": 8,
   "metadata": {
    "nbgrader": {
     "grade": false,
     "grade_id": "cell-86a9e3212f200d21",
     "locked": false,
     "schema_version": 1,
     "solution": true
    },
    "slideshow": {
     "slide_type": "subslide"
    }
   },
   "outputs": [
    {
     "name": "stdout",
     "output_type": "stream",
     "text": [
      "(1260, 156) (1260,)\n"
     ]
    }
   ],
   "source": [
    "#step 1: choose columsn of interest\n",
    "#step 2: use get_dummies\n",
    "#step 3: follow this now voice_recognition\n",
    "X = new_df.drop([\"PRICE\"],axis=1)\n",
    "y = np.log(new_df.PRICE.values)\n",
    "print(X.shape, y.shape)"
   ]
  },
  {
   "cell_type": "code",
   "execution_count": 9,
   "metadata": {
    "nbgrader": {
     "grade": false,
     "grade_id": "cell-711a82d9b32c83ff",
     "locked": false,
     "schema_version": 1,
     "solution": true
    },
    "slideshow": {
     "slide_type": "fragment"
    }
   },
   "outputs": [],
   "source": [
    "from sklearn.model_selection import train_test_split\n",
    "from sklearn.preprocessing import LabelEncoder, MinMaxScaler\n",
    "from tensorflow.keras.utils import to_categorical"
   ]
  },
  {
   "cell_type": "code",
   "execution_count": 10,
   "metadata": {
    "nbgrader": {
     "grade": false,
     "grade_id": "cell-711a82d9b32c83ff",
     "locked": false,
     "schema_version": 1,
     "solution": true
    },
    "slideshow": {
     "slide_type": "fragment"
    }
   },
   "outputs": [],
   "source": [
    "X_train, X_test, y_train, y_test = train_test_split(\n",
    "    X, y, random_state=42)"
   ]
  },
  {
   "cell_type": "code",
   "execution_count": 11,
   "metadata": {
    "nbgrader": {
     "grade": false,
     "grade_id": "cell-711a82d9b32c83ff",
     "locked": false,
     "schema_version": 1,
     "solution": true
    },
    "slideshow": {
     "slide_type": "fragment"
    }
   },
   "outputs": [],
   "source": [
    "X_scaler = MinMaxScaler().fit(X_train)\n",
    "X_train_scaled = X_scaler.transform(X_train)\n",
    "X_test_scaled = X_scaler.transform(X_test)"
   ]
  },
  {
   "cell_type": "code",
   "execution_count": 12,
   "metadata": {},
   "outputs": [],
   "source": [
    "from tensorflow.keras.models import Sequential\n",
    "from tensorflow.keras.layers import Dense"
   ]
  },
  {
   "cell_type": "code",
   "execution_count": 13,
   "metadata": {},
   "outputs": [],
   "source": [
    "# Create model and add layers\n",
    "model = Sequential()\n",
    "model.add(Dense(units=100, input_dim=156))\n",
    "model.add(Dense(units=100, activation='relu'))\n",
    "# model.add(Dense(units=2, activation='softmax'))\n",
    "model.add(Dense(units=1))"
   ]
  },
  {
   "cell_type": "code",
   "execution_count": 14,
   "metadata": {},
   "outputs": [],
   "source": [
    "# Compile and fit the model\n",
    "model.compile(optimizer='adam',\n",
    "              loss='mean_squared_error',\n",
    "              metrics=['mse'])"
   ]
  },
  {
   "cell_type": "code",
   "execution_count": 15,
   "metadata": {},
   "outputs": [
    {
     "name": "stdout",
     "output_type": "stream",
     "text": [
      "Model: \"sequential\"\n",
      "_________________________________________________________________\n",
      "Layer (type)                 Output Shape              Param #   \n",
      "=================================================================\n",
      "dense (Dense)                (None, 100)               15700     \n",
      "_________________________________________________________________\n",
      "dense_1 (Dense)              (None, 100)               10100     \n",
      "_________________________________________________________________\n",
      "dense_2 (Dense)              (None, 1)                 101       \n",
      "=================================================================\n",
      "Total params: 25,901\n",
      "Trainable params: 25,901\n",
      "Non-trainable params: 0\n",
      "_________________________________________________________________\n"
     ]
    }
   ],
   "source": [
    "model.summary()"
   ]
  },
  {
   "cell_type": "code",
   "execution_count": 16,
   "metadata": {},
   "outputs": [
    {
     "name": "stdout",
     "output_type": "stream",
     "text": [
      "Epoch 1/80\n",
      "26/26 - 1s - loss: 175.4551 - mse: 175.4551 - val_loss: 124.7748 - val_mse: 124.7748\n",
      "Epoch 2/80\n",
      "26/26 - 0s - loss: 56.7235 - mse: 56.7235 - val_loss: 2.0092 - val_mse: 2.0092\n",
      "Epoch 3/80\n",
      "26/26 - 0s - loss: 3.3390 - mse: 3.3390 - val_loss: 1.2788 - val_mse: 1.2788\n",
      "Epoch 4/80\n",
      "26/26 - 0s - loss: 1.0193 - mse: 1.0193 - val_loss: 0.7360 - val_mse: 0.7360\n",
      "Epoch 5/80\n",
      "26/26 - 0s - loss: 0.5915 - mse: 0.5915 - val_loss: 0.6081 - val_mse: 0.6081\n",
      "Epoch 6/80\n",
      "26/26 - 0s - loss: 0.4607 - mse: 0.4607 - val_loss: 0.5069 - val_mse: 0.5069\n",
      "Epoch 7/80\n",
      "26/26 - 0s - loss: 0.3979 - mse: 0.3979 - val_loss: 0.4470 - val_mse: 0.4470\n",
      "Epoch 8/80\n",
      "26/26 - 0s - loss: 0.3529 - mse: 0.3529 - val_loss: 0.3994 - val_mse: 0.3994\n",
      "Epoch 9/80\n",
      "26/26 - 0s - loss: 0.3241 - mse: 0.3241 - val_loss: 0.3815 - val_mse: 0.3815\n",
      "Epoch 10/80\n",
      "26/26 - 0s - loss: 0.2980 - mse: 0.2980 - val_loss: 0.3559 - val_mse: 0.3559\n",
      "Epoch 11/80\n",
      "26/26 - 0s - loss: 0.2810 - mse: 0.2810 - val_loss: 0.3367 - val_mse: 0.3367\n",
      "Epoch 12/80\n",
      "26/26 - 0s - loss: 0.2618 - mse: 0.2618 - val_loss: 0.3521 - val_mse: 0.3521\n",
      "Epoch 13/80\n",
      "26/26 - 0s - loss: 0.2518 - mse: 0.2518 - val_loss: 0.3149 - val_mse: 0.3149\n",
      "Epoch 14/80\n",
      "26/26 - 0s - loss: 0.2422 - mse: 0.2422 - val_loss: 0.3010 - val_mse: 0.3010\n",
      "Epoch 15/80\n",
      "26/26 - 0s - loss: 0.2362 - mse: 0.2362 - val_loss: 0.2972 - val_mse: 0.2972\n",
      "Epoch 16/80\n",
      "26/26 - 0s - loss: 0.2270 - mse: 0.2270 - val_loss: 0.2886 - val_mse: 0.2886\n",
      "Epoch 17/80\n",
      "26/26 - 0s - loss: 0.2273 - mse: 0.2273 - val_loss: 0.2898 - val_mse: 0.2898\n",
      "Epoch 18/80\n",
      "26/26 - 0s - loss: 0.2137 - mse: 0.2137 - val_loss: 0.2774 - val_mse: 0.2774\n",
      "Epoch 19/80\n",
      "26/26 - 0s - loss: 0.2176 - mse: 0.2176 - val_loss: 0.2749 - val_mse: 0.2749\n",
      "Epoch 20/80\n",
      "26/26 - 0s - loss: 0.2004 - mse: 0.2004 - val_loss: 0.2660 - val_mse: 0.2660\n",
      "Epoch 21/80\n",
      "26/26 - 0s - loss: 0.1933 - mse: 0.1933 - val_loss: 0.2574 - val_mse: 0.2574\n",
      "Epoch 22/80\n",
      "26/26 - 0s - loss: 0.1905 - mse: 0.1905 - val_loss: 0.2516 - val_mse: 0.2516\n",
      "Epoch 23/80\n",
      "26/26 - 0s - loss: 0.1852 - mse: 0.1852 - val_loss: 0.2494 - val_mse: 0.2494\n",
      "Epoch 24/80\n",
      "26/26 - 0s - loss: 0.1880 - mse: 0.1880 - val_loss: 0.2495 - val_mse: 0.2495\n",
      "Epoch 25/80\n",
      "26/26 - 0s - loss: 0.1801 - mse: 0.1801 - val_loss: 0.2291 - val_mse: 0.2291\n",
      "Epoch 26/80\n",
      "26/26 - 0s - loss: 0.1723 - mse: 0.1723 - val_loss: 0.2243 - val_mse: 0.2243\n",
      "Epoch 27/80\n",
      "26/26 - 0s - loss: 0.1686 - mse: 0.1686 - val_loss: 0.2183 - val_mse: 0.2183\n",
      "Epoch 28/80\n",
      "26/26 - 0s - loss: 0.1616 - mse: 0.1616 - val_loss: 0.2183 - val_mse: 0.2183\n",
      "Epoch 29/80\n",
      "26/26 - 0s - loss: 0.1641 - mse: 0.1641 - val_loss: 0.2089 - val_mse: 0.2089\n",
      "Epoch 30/80\n",
      "26/26 - 0s - loss: 0.1594 - mse: 0.1594 - val_loss: 0.2073 - val_mse: 0.2073\n",
      "Epoch 31/80\n",
      "26/26 - 0s - loss: 0.1571 - mse: 0.1571 - val_loss: 0.1989 - val_mse: 0.1989\n",
      "Epoch 32/80\n",
      "26/26 - 0s - loss: 0.1605 - mse: 0.1605 - val_loss: 0.2026 - val_mse: 0.2026\n",
      "Epoch 33/80\n",
      "26/26 - 0s - loss: 0.1507 - mse: 0.1507 - val_loss: 0.1996 - val_mse: 0.1996\n",
      "Epoch 34/80\n",
      "26/26 - 0s - loss: 0.1526 - mse: 0.1526 - val_loss: 0.1999 - val_mse: 0.1999\n",
      "Epoch 35/80\n",
      "26/26 - 0s - loss: 0.1415 - mse: 0.1415 - val_loss: 0.1923 - val_mse: 0.1923\n",
      "Epoch 36/80\n",
      "26/26 - 0s - loss: 0.1461 - mse: 0.1461 - val_loss: 0.1845 - val_mse: 0.1845\n",
      "Epoch 37/80\n",
      "26/26 - 0s - loss: 0.1505 - mse: 0.1505 - val_loss: 0.1769 - val_mse: 0.1769\n",
      "Epoch 38/80\n",
      "26/26 - 0s - loss: 0.1340 - mse: 0.1340 - val_loss: 0.1745 - val_mse: 0.1745\n",
      "Epoch 39/80\n",
      "26/26 - 0s - loss: 0.1329 - mse: 0.1329 - val_loss: 0.1758 - val_mse: 0.1758\n",
      "Epoch 40/80\n",
      "26/26 - 0s - loss: 0.1339 - mse: 0.1339 - val_loss: 0.1776 - val_mse: 0.1776\n",
      "Epoch 41/80\n",
      "26/26 - 0s - loss: 0.1333 - mse: 0.1333 - val_loss: 0.1668 - val_mse: 0.1668\n",
      "Epoch 42/80\n",
      "26/26 - 0s - loss: 0.1276 - mse: 0.1276 - val_loss: 0.1629 - val_mse: 0.1629\n",
      "Epoch 43/80\n",
      "26/26 - 0s - loss: 0.1344 - mse: 0.1344 - val_loss: 0.1672 - val_mse: 0.1672\n",
      "Epoch 44/80\n",
      "26/26 - 0s - loss: 0.1264 - mse: 0.1264 - val_loss: 0.1641 - val_mse: 0.1641\n",
      "Epoch 45/80\n",
      "26/26 - 0s - loss: 0.1214 - mse: 0.1214 - val_loss: 0.1578 - val_mse: 0.1578\n",
      "Epoch 46/80\n",
      "26/26 - 0s - loss: 0.1198 - mse: 0.1198 - val_loss: 0.1587 - val_mse: 0.1587\n",
      "Epoch 47/80\n",
      "26/26 - 0s - loss: 0.1220 - mse: 0.1220 - val_loss: 0.1637 - val_mse: 0.1637\n",
      "Epoch 48/80\n",
      "26/26 - 0s - loss: 0.1284 - mse: 0.1284 - val_loss: 0.1614 - val_mse: 0.1614\n",
      "Epoch 49/80\n",
      "26/26 - 0s - loss: 0.1189 - mse: 0.1189 - val_loss: 0.1507 - val_mse: 0.1507\n",
      "Epoch 50/80\n",
      "26/26 - 0s - loss: 0.1192 - mse: 0.1192 - val_loss: 0.1546 - val_mse: 0.1546\n",
      "Epoch 51/80\n",
      "26/26 - 0s - loss: 0.1152 - mse: 0.1152 - val_loss: 0.1469 - val_mse: 0.1469\n",
      "Epoch 52/80\n",
      "26/26 - 0s - loss: 0.1149 - mse: 0.1149 - val_loss: 0.1445 - val_mse: 0.1445\n",
      "Epoch 53/80\n",
      "26/26 - 0s - loss: 0.1127 - mse: 0.1127 - val_loss: 0.1486 - val_mse: 0.1486\n",
      "Epoch 54/80\n",
      "26/26 - 0s - loss: 0.1140 - mse: 0.1140 - val_loss: 0.1499 - val_mse: 0.1499\n",
      "Epoch 55/80\n",
      "26/26 - 0s - loss: 0.1139 - mse: 0.1139 - val_loss: 0.1499 - val_mse: 0.1499\n",
      "Epoch 56/80\n",
      "26/26 - 0s - loss: 0.1180 - mse: 0.1180 - val_loss: 0.1440 - val_mse: 0.1440\n",
      "Epoch 57/80\n",
      "26/26 - 0s - loss: 0.1124 - mse: 0.1124 - val_loss: 0.1465 - val_mse: 0.1465\n",
      "Epoch 58/80\n",
      "26/26 - 0s - loss: 0.1127 - mse: 0.1127 - val_loss: 0.1549 - val_mse: 0.1549\n",
      "Epoch 59/80\n",
      "26/26 - 0s - loss: 0.1191 - mse: 0.1191 - val_loss: 0.1470 - val_mse: 0.1470\n",
      "Epoch 60/80\n",
      "26/26 - 0s - loss: 0.1134 - mse: 0.1134 - val_loss: 0.1419 - val_mse: 0.1419\n",
      "Epoch 61/80\n",
      "26/26 - 0s - loss: 0.1140 - mse: 0.1140 - val_loss: 0.1438 - val_mse: 0.1438\n",
      "Epoch 62/80\n",
      "26/26 - 0s - loss: 0.1111 - mse: 0.1111 - val_loss: 0.1384 - val_mse: 0.1384\n",
      "Epoch 63/80\n",
      "26/26 - 0s - loss: 0.1205 - mse: 0.1205 - val_loss: 0.1423 - val_mse: 0.1423\n",
      "Epoch 64/80\n",
      "26/26 - 0s - loss: 0.1194 - mse: 0.1194 - val_loss: 0.1506 - val_mse: 0.1506\n",
      "Epoch 65/80\n",
      "26/26 - 0s - loss: 0.1236 - mse: 0.1236 - val_loss: 0.1647 - val_mse: 0.1647\n",
      "Epoch 66/80\n",
      "26/26 - 0s - loss: 0.1225 - mse: 0.1225 - val_loss: 0.1391 - val_mse: 0.1391\n",
      "Epoch 67/80\n",
      "26/26 - 0s - loss: 0.1175 - mse: 0.1175 - val_loss: 0.1421 - val_mse: 0.1421\n",
      "Epoch 68/80\n",
      "26/26 - 0s - loss: 0.1391 - mse: 0.1391 - val_loss: 0.1934 - val_mse: 0.1934\n",
      "Epoch 69/80\n",
      "26/26 - 0s - loss: 0.1178 - mse: 0.1178 - val_loss: 0.1374 - val_mse: 0.1374\n",
      "Epoch 70/80\n",
      "26/26 - 0s - loss: 0.1186 - mse: 0.1186 - val_loss: 0.1420 - val_mse: 0.1420\n",
      "Epoch 71/80\n",
      "26/26 - 0s - loss: 0.1120 - mse: 0.1120 - val_loss: 0.1394 - val_mse: 0.1394\n",
      "Epoch 72/80\n",
      "26/26 - 0s - loss: 0.1102 - mse: 0.1102 - val_loss: 0.1393 - val_mse: 0.1393\n",
      "Epoch 73/80\n",
      "26/26 - 0s - loss: 0.1158 - mse: 0.1158 - val_loss: 0.1457 - val_mse: 0.1457\n",
      "Epoch 74/80\n",
      "26/26 - 0s - loss: 0.1115 - mse: 0.1115 - val_loss: 0.1326 - val_mse: 0.1326\n",
      "Epoch 75/80\n",
      "26/26 - 0s - loss: 0.1140 - mse: 0.1140 - val_loss: 0.1519 - val_mse: 0.1519\n",
      "Epoch 76/80\n",
      "26/26 - 0s - loss: 0.1152 - mse: 0.1152 - val_loss: 0.1440 - val_mse: 0.1440\n",
      "Epoch 77/80\n",
      "26/26 - 0s - loss: 0.1136 - mse: 0.1136 - val_loss: 0.1409 - val_mse: 0.1409\n",
      "Epoch 78/80\n",
      "26/26 - 0s - loss: 0.1115 - mse: 0.1115 - val_loss: 0.1306 - val_mse: 0.1306\n",
      "Epoch 79/80\n",
      "26/26 - 0s - loss: 0.1107 - mse: 0.1107 - val_loss: 0.1401 - val_mse: 0.1401\n",
      "Epoch 80/80\n",
      "26/26 - 0s - loss: 0.1101 - mse: 0.1101 - val_loss: 0.1401 - val_mse: 0.1401\n"
     ]
    },
    {
     "data": {
      "text/plain": [
       "<tensorflow.python.keras.callbacks.History at 0x7f9bd4c54340>"
      ]
     },
     "execution_count": 16,
     "metadata": {},
     "output_type": "execute_result"
    }
   ],
   "source": [
    "model.fit(\n",
    "    X_train_scaled,\n",
    "    y_train,\n",
    "    \n",
    "    validation_split=.15,\n",
    "\n",
    "    epochs=80,\n",
    "    shuffle=True,\n",
    "    verbose=2\n",
    ")"
   ]
  },
  {
   "cell_type": "markdown",
   "metadata": {},
   "source": [
    "## Quantify our Trained Model"
   ]
  },
  {
   "cell_type": "code",
   "execution_count": 17,
   "metadata": {},
   "outputs": [
    {
     "name": "stdout",
     "output_type": "stream",
     "text": [
      "10/10 - 0s - loss: 0.1436 - mse: 0.1436\n",
      "Normal Neural Network - Loss: 0.14363379776477814, Accuracy: 0.14363379776477814\n"
     ]
    }
   ],
   "source": [
    "model_loss, model_accuracy = model.evaluate(\n",
    "    X_test_scaled, y_test, verbose=2)\n",
    "print(\n",
    "    f\"Normal Neural Network - Loss: {model_loss}, Accuracy: {model_accuracy}\")"
   ]
  },
  {
   "cell_type": "code",
   "execution_count": 20,
   "metadata": {},
   "outputs": [],
   "source": [
    "from sklearn.ensemble import RandomForestClassifier, RandomForestRegressor"
   ]
  },
  {
   "cell_type": "code",
   "execution_count": 21,
   "metadata": {},
   "outputs": [
    {
     "data": {
      "text/plain": [
       "RandomForestRegressor()"
      ]
     },
     "execution_count": 21,
     "metadata": {},
     "output_type": "execute_result"
    }
   ],
   "source": [
    "rf = RandomForestRegressor()\n",
    "rf.fit(X_train,y_train)"
   ]
  },
  {
   "cell_type": "code",
   "execution_count": 22,
   "metadata": {},
   "outputs": [
    {
     "data": {
      "text/plain": [
       "0.9820048583322024"
      ]
     },
     "execution_count": 22,
     "metadata": {},
     "output_type": "execute_result"
    }
   ],
   "source": [
    "rf.score(X_train,y_train)"
   ]
  },
  {
   "cell_type": "code",
   "execution_count": 23,
   "metadata": {},
   "outputs": [
    {
     "data": {
      "text/plain": [
       "0.9096746707426758"
      ]
     },
     "execution_count": 23,
     "metadata": {},
     "output_type": "execute_result"
    }
   ],
   "source": [
    "rf.score(X_test,y_test)"
   ]
  },
  {
   "cell_type": "code",
   "execution_count": 28,
   "metadata": {},
   "outputs": [
    {
     "data": {
      "text/plain": [
       "754298.2779062538"
      ]
     },
     "execution_count": 28,
     "metadata": {},
     "output_type": "execute_result"
    }
   ],
   "source": [
    "np.exp(rf.predict(X_test)[2])"
   ]
  },
  {
   "cell_type": "code",
   "execution_count": 29,
   "metadata": {},
   "outputs": [
    {
     "data": {
      "text/plain": [
       "BATHS                             1.500000\n",
       "SQUARE FEET                    1440.000000\n",
       "LOT SIZE                       6500.000000\n",
       "YEAR BUILT                     1949.000000\n",
       "DAYS ON MARKET                   11.000000\n",
       "LATITUDE                         33.836051\n",
       "LONGITUDE                      -117.890319\n",
       "Crime per Capita (1000s)          5.244735\n",
       "CITY_Aliso Viejo                  0.000000\n",
       "CITY_Anaheim                      1.000000\n",
       "CITY_Brea                         0.000000\n",
       "CITY_Buena Park                   0.000000\n",
       "CITY_Costa Mesa                   0.000000\n",
       "CITY_Cypress                      0.000000\n",
       "CITY_Dana Point                   0.000000\n",
       "CITY_Fountain Valley              0.000000\n",
       "CITY_Fullerton                    0.000000\n",
       "CITY_Garden Grove                 0.000000\n",
       "CITY_Huntington Beach             0.000000\n",
       "CITY_Irvine                       0.000000\n",
       "CITY_La Habra                     0.000000\n",
       "CITY_La Palma                     0.000000\n",
       "CITY_Laguna Beach                 0.000000\n",
       "CITY_Laguna Hills                 0.000000\n",
       "CITY_Laguna Niguel                0.000000\n",
       "CITY_Lake Forest                  0.000000\n",
       "CITY_Los Alamitos                 0.000000\n",
       "CITY_Mission Viejo                0.000000\n",
       "CITY_Newport Beach                0.000000\n",
       "CITY_Orange                       0.000000\n",
       "CITY_Placentia                    0.000000\n",
       "CITY_Rancho Santa Margarita       0.000000\n",
       "CITY_San Clemente                 0.000000\n",
       "CITY_San Juan Capistrano          0.000000\n",
       "CITY_Santa Ana                    0.000000\n",
       "CITY_Seal Beach                   0.000000\n",
       "CITY_Stanton                      0.000000\n",
       "CITY_Tustin                       0.000000\n",
       "CITY_Villa Park                   0.000000\n",
       "CITY_Westminster                  0.000000\n",
       "CITY_Yorba Linda                  0.000000\n",
       "ZIP OR POSTAL CODE_90620          0.000000\n",
       "ZIP OR POSTAL CODE_90621          0.000000\n",
       "ZIP OR POSTAL CODE_90623          0.000000\n",
       "ZIP OR POSTAL CODE_90630          0.000000\n",
       "ZIP OR POSTAL CODE_90631          0.000000\n",
       "ZIP OR POSTAL CODE_90680          0.000000\n",
       "ZIP OR POSTAL CODE_90720          0.000000\n",
       "ZIP OR POSTAL CODE_90740          0.000000\n",
       "ZIP OR POSTAL CODE_92602          0.000000\n",
       "ZIP OR POSTAL CODE_92603          0.000000\n",
       "ZIP OR POSTAL CODE_92604          0.000000\n",
       "ZIP OR POSTAL CODE_92606          0.000000\n",
       "ZIP OR POSTAL CODE_92610          0.000000\n",
       "ZIP OR POSTAL CODE_92612          0.000000\n",
       "ZIP OR POSTAL CODE_92614          0.000000\n",
       "ZIP OR POSTAL CODE_92618          0.000000\n",
       "ZIP OR POSTAL CODE_92620          0.000000\n",
       "ZIP OR POSTAL CODE_92624          0.000000\n",
       "ZIP OR POSTAL CODE_92626          0.000000\n",
       "ZIP OR POSTAL CODE_92627          0.000000\n",
       "ZIP OR POSTAL CODE_92629          0.000000\n",
       "ZIP OR POSTAL CODE_92630          0.000000\n",
       "ZIP OR POSTAL CODE_92646          0.000000\n",
       "ZIP OR POSTAL CODE_92647          0.000000\n",
       "ZIP OR POSTAL CODE_92648          0.000000\n",
       "ZIP OR POSTAL CODE_92649          0.000000\n",
       "ZIP OR POSTAL CODE_92651          0.000000\n",
       "ZIP OR POSTAL CODE_92653          0.000000\n",
       "ZIP OR POSTAL CODE_92656          0.000000\n",
       "ZIP OR POSTAL CODE_92660          0.000000\n",
       "ZIP OR POSTAL CODE_92661          0.000000\n",
       "ZIP OR POSTAL CODE_92663          0.000000\n",
       "ZIP OR POSTAL CODE_92672          0.000000\n",
       "ZIP OR POSTAL CODE_92673          0.000000\n",
       "ZIP OR POSTAL CODE_92675          0.000000\n",
       "ZIP OR POSTAL CODE_92677          0.000000\n",
       "ZIP OR POSTAL CODE_92679          0.000000\n",
       "ZIP OR POSTAL CODE_92683          0.000000\n",
       "ZIP OR POSTAL CODE_92688          0.000000\n",
       "ZIP OR POSTAL CODE_92691          0.000000\n",
       "ZIP OR POSTAL CODE_92692          0.000000\n",
       "ZIP OR POSTAL CODE_92701          0.000000\n",
       "ZIP OR POSTAL CODE_92703          0.000000\n",
       "ZIP OR POSTAL CODE_92704          0.000000\n",
       "ZIP OR POSTAL CODE_92705          0.000000\n",
       "ZIP OR POSTAL CODE_92706          0.000000\n",
       "ZIP OR POSTAL CODE_92707          0.000000\n",
       "ZIP OR POSTAL CODE_92708          0.000000\n",
       "ZIP OR POSTAL CODE_92780          0.000000\n",
       "ZIP OR POSTAL CODE_92782          0.000000\n",
       "ZIP OR POSTAL CODE_92801          0.000000\n",
       "ZIP OR POSTAL CODE_92802          0.000000\n",
       "ZIP OR POSTAL CODE_92804          0.000000\n",
       "ZIP OR POSTAL CODE_92805          1.000000\n",
       "ZIP OR POSTAL CODE_92806          0.000000\n",
       "ZIP OR POSTAL CODE_92807          0.000000\n",
       "ZIP OR POSTAL CODE_92821          0.000000\n",
       "ZIP OR POSTAL CODE_92823          0.000000\n",
       "ZIP OR POSTAL CODE_92831          0.000000\n",
       "ZIP OR POSTAL CODE_92832          0.000000\n",
       "ZIP OR POSTAL CODE_92833          0.000000\n",
       "ZIP OR POSTAL CODE_92835          0.000000\n",
       "ZIP OR POSTAL CODE_92840          0.000000\n",
       "ZIP OR POSTAL CODE_92841          0.000000\n",
       "ZIP OR POSTAL CODE_92843          0.000000\n",
       "ZIP OR POSTAL CODE_92844          0.000000\n",
       "ZIP OR POSTAL CODE_92845          0.000000\n",
       "ZIP OR POSTAL CODE_92861          0.000000\n",
       "ZIP OR POSTAL CODE_92865          0.000000\n",
       "ZIP OR POSTAL CODE_92866          0.000000\n",
       "ZIP OR POSTAL CODE_92867          0.000000\n",
       "ZIP OR POSTAL CODE_92868          0.000000\n",
       "ZIP OR POSTAL CODE_92869          0.000000\n",
       "ZIP OR POSTAL CODE_92870          0.000000\n",
       "ZIP OR POSTAL CODE_92886          0.000000\n",
       "ZIP OR POSTAL CODE_92887          0.000000\n",
       "Average School Rating_2.333       0.000000\n",
       "Average School Rating_2.667       0.000000\n",
       "Average School Rating_3           0.000000\n",
       "Average School Rating_3.333       0.000000\n",
       "Average School Rating_3.667       0.000000\n",
       "Average School Rating_4           1.000000\n",
       "Average School Rating_4.333       0.000000\n",
       "Average School Rating_4.4         0.000000\n",
       "Average School Rating_4.429       0.000000\n",
       "Average School Rating_4.6         0.000000\n",
       "Average School Rating_4.667       0.000000\n",
       "Average School Rating_4.75        0.000000\n",
       "Average School Rating_4.833       0.000000\n",
       "Average School Rating_5           0.000000\n",
       "Average School Rating_5.25        0.000000\n",
       "Average School Rating_5.333       0.000000\n",
       "Average School Rating_5.5         0.000000\n",
       "Average School Rating_5.667       0.000000\n",
       "Average School Rating_5.75        0.000000\n",
       "Average School Rating_6           0.000000\n",
       "Average School Rating_6.25        0.000000\n",
       "Average School Rating_6.333       0.000000\n",
       "Average School Rating_6.5         0.000000\n",
       "Average School Rating_6.667       0.000000\n",
       "Average School Rating_6.75        0.000000\n",
       "Average School Rating_7           0.000000\n",
       "Average School Rating_7.25        0.000000\n",
       "Average School Rating_7.333       0.000000\n",
       "Average School Rating_7.667       0.000000\n",
       "Average School Rating_7.75        0.000000\n",
       "Average School Rating_8           0.000000\n",
       "Average School Rating_8.2         0.000000\n",
       "Average School Rating_8.25        0.000000\n",
       "Average School Rating_8.333       0.000000\n",
       "Average School Rating_8.5         0.000000\n",
       "Average School Rating_8.667       0.000000\n",
       "Average School Rating_8.75        0.000000\n",
       "Average School Rating_9           0.000000\n",
       "Average School Rating_9.333       0.000000\n",
       "Name: 43, dtype: float64"
      ]
     },
     "execution_count": 29,
     "metadata": {},
     "output_type": "execute_result"
    }
   ],
   "source": [
    "X_test.iloc[2]"
   ]
  }
 ],
 "metadata": {
  "kernelspec": {
   "display_name": "Python 3",
   "language": "python",
   "name": "python3"
  },
  "language_info": {
   "codemirror_mode": {
    "name": "ipython",
    "version": 3
   },
   "file_extension": ".py",
   "mimetype": "text/x-python",
   "name": "python",
   "nbconvert_exporter": "python",
   "pygments_lexer": "ipython3",
   "version": "3.8.5"
  },
  "varInspector": {
   "cols": {
    "lenName": 16,
    "lenType": 16,
    "lenVar": 40
   },
   "kernels_config": {
    "python": {
     "delete_cmd_postfix": "",
     "delete_cmd_prefix": "del ",
     "library": "var_list.py",
     "varRefreshCmd": "print(var_dic_list())"
    },
    "r": {
     "delete_cmd_postfix": ") ",
     "delete_cmd_prefix": "rm(",
     "library": "var_list.r",
     "varRefreshCmd": "cat(var_dic_list()) "
    }
   },
   "types_to_exclude": [
    "module",
    "function",
    "builtin_function_or_method",
    "instance",
    "_Feature"
   ],
   "window_display": false
  }
 },
 "nbformat": 4,
 "nbformat_minor": 4
}
